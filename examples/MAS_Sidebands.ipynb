{
 "cells": [
  {
   "cell_type": "code",
   "execution_count": 1,
   "metadata": {},
   "outputs": [],
   "source": [
    "import numpy as np\n",
    "from numpy import sqrt, sin, cos, pi\n",
    "import matplotlib.pyplot as plt\n",
    "\n",
    "from floquet import *"
   ]
  },
  {
   "cell_type": "code",
   "execution_count": 2,
   "metadata": {},
   "outputs": [],
   "source": [
    "def mas_frq(hamiltonian, start, detect, frq, npoints=4096):\n",
    "    \"\"\"\n",
    "    Calculation in frequency domain\n",
    "\n",
    "    Parameters\n",
    "    ----------\n",
    "    hamiltonian : np.ndarray\n",
    "        Defines the Hamiltonian under which the spin system evolves\n",
    "    start : np.ndarray\n",
    "        Start Operators\n",
    "    detect : np.ndarray\n",
    "\n",
    "    \"\"\"\n",
    "\n",
    "    # diagonalize\n",
    "    eigenvalues, D = np.linalg.eig(hamiltonian)\n",
    "    Dinv = np.linalg.inv(D)\n",
    "\n",
    "    # change of basis for start and detect operators\n",
    "    start_cs_eigenbasis = Dinv @ start @ D\n",
    "    detect_cs_eigenbasis = Dinv @ detect @ D\n",
    "    ham = np.diag(eigenvalues)\n",
    "\n",
    "    # dwell time\n",
    "    dw = (frq[1] - frq[0]) / npoints\n",
    "\n",
    "    # calculate frequency spectrum\n",
    "    dim = ham.shape[0]\n",
    "\n",
    "    # frequency domain calculation\n",
    "    spectrum = np.zeros(npoints)\n",
    "    for i in range(dim):\n",
    "        for j in range(dim):\n",
    "\n",
    "            # find intensity and position\n",
    "            intensity = detect_cs_eigenbasis[i, j] * start_cs_eigenbasis[j, i]\n",
    "            delta_eigenvalue = ham[j, j] - ham[i, i]\n",
    "            position = int((delta_eigenvalue.real - frq[0]) // dw)\n",
    "\n",
    "            # accumulate only if intensity is reasonable\n",
    "            if np.abs(intensity) > 1e-12:\n",
    "                if 0 <= position < npoints:\n",
    "                    spectrum[position] += intensity.real\n",
    "\n",
    "    return spectrum"
   ]
  },
  {
   "cell_type": "code",
   "execution_count": 3,
   "metadata": {},
   "outputs": [],
   "source": [
    "def run(sx, sy, sz, mas):\n",
    "\n",
    "    info =f\"\"\"\n",
    "    $\\\\delta_{{xx}}$ = {sx/1e3:.1f} kHz\n",
    "    $\\\\delta_{{yy}}$ = {sy/1e3:.1f} kHz\n",
    "    $\\\\delta_{{zz}}$ = {sz/1e3:.1f} kHz\"\"\".strip()\n",
    "    \n",
    "    # spin 1/2\n",
    "    I = pauli()\n",
    "\n",
    "    # radians\n",
    "    sx, sy, sz, mas = [2 * np.pi * i for i in (sx, sy, sz, mas)]\n",
    "\n",
    "    # reasonable frequency limits\n",
    "    limits = -100000 - sz, 200000 + sx\n",
    "\n",
    "    # construct tensors\n",
    "    CS_cart = tensor_setup(sigmax=sx, sigmay=sy, sigmaz=sz)\n",
    "    CS_PAS = matrix_to_sphten(CS_cart)\n",
    "    T = spherical_tensor_basis(\"spin\", coord=[0, 0, 1])\n",
    "\n",
    "    # term on the diagonal is the isotropic part\n",
    "    terms = {}\n",
    "    terms[0] = CS_PAS[0, 0] * T[0, 0]\n",
    "\n",
    "    # start and detect operators\n",
    "    dect = F(n=0, fdim=9, term=I[\"p\"])\n",
    "    strt = F(n=(0, 1), fdim=9, term=I[\"x\"])\n",
    "    ft = np.zeros(4096)\n",
    "\n",
    "    # powder averaging\n",
    "    for theta in np.linspace(0, pi, 32):\n",
    "        for phi in np.linspace(0, 2 * pi, 32):\n",
    "\n",
    "            CS = rotate(CS_PAS, phi, theta, 0,)\n",
    "            terms[1] = CS[2, 1] * T[2, 0] / sqrt(3)\n",
    "            terms[2] = CS[2, 2] * T[2, 0] / sqrt(6)\n",
    "            terms[-1] = np.matrix.getH(CS[2, 1] * T[2, 0])\n",
    "            terms[-2] = np.matrix.getH(CS[2, 2] * T[2, 0])\n",
    "\n",
    "            fmat = F(n=None, fdim=9, term=mas)\n",
    "            \n",
    "            for k, v in terms.items():\n",
    "                fmat += F(n=k, fdim=9, term=v)\n",
    "\n",
    "            out = mas_frq(fmat, strt, dect, frq=limits, npoints=4096)\n",
    "            out *= sin(theta)\n",
    "            ft += out\n",
    "\n",
    "    # process\n",
    "    xscale = np.linspace(-limits[0] / 2 / pi, -limits[1] / 2 / pi, 4096)\n",
    "    fid = np.fft.ifft(ft)\n",
    "    fid *= np.exp(-0.005 * np.arange(fid.shape[-1]))\n",
    "    ft = np.fft.fft(fid)\n",
    "\n",
    "    return xscale, ft, info"
   ]
  },
  {
   "cell_type": "code",
   "execution_count": 4,
   "metadata": {},
   "outputs": [],
   "source": [
    "xscale, ft, info = run(-5000, -2000, 7000, 2500)"
   ]
  },
  {
   "cell_type": "code",
   "execution_count": 6,
   "metadata": {},
   "outputs": [
    {
     "data": {
      "image/png": "[encoded data removed]",
      "text/plain": [
       "<Figure size 432x288 with 1 Axes>"
      ]
     },
     "metadata": {
      "needs_background": "light"
     },
     "output_type": "display_data"
    }
   ],
   "source": [
    "fig, ax = plt.subplots(figsize=(6, 4))\n",
    "\n",
    "ax.set_facecolor(\"white\")\n",
    "for i in [\"top\", \"bottom\", \"left\", \"right\"]:\n",
    "    ax.spines[i].set_linewidth(2)\n",
    "    ax.spines[i].set_edgecolor(\"k\")\n",
    "\n",
    "ax.tick_params(axis=\"both\", width=2, length=5, labelsize=12, labelcolor=\"k\", color=\"k\")\n",
    "ax.plot(xscale/1000, ft.real / np.max(ft.real), color=\"tab:blue\")\n",
    "ax.set_xlim(-20, 20)\n",
    "ax.set_xlabel(\"Frequency (kHz)\", color=\"k\", fontsize=12)\n",
    "ax.set_ylabel(\"Intensity (Normalised)\", color=\"k\", fontsize=12)\n",
    "ax.text(11, 1, info, fontsize=15, va=\"top\", ha=\"right\")\n",
    "plt.show()"
   ]
  },
  {
   "cell_type": "code",
   "execution_count": null,
   "metadata": {},
   "outputs": [],
   "source": []
  }
 ],
 "metadata": {
  "kernelspec": {
   "display_name": "Python 3",
   "language": "python",
   "name": "python3"
  },
  "language_info": {
   "codemirror_mode": {
    "name": "ipython",
    "version": 3
   },
   "file_extension": ".py",
   "mimetype": "text/x-python",
   "name": "python",
   "nbconvert_exporter": "python",
   "pygments_lexer": "ipython3",
   "version": "3.9.2"
  }
 },
 "nbformat": 4,
 "nbformat_minor": 4
}
